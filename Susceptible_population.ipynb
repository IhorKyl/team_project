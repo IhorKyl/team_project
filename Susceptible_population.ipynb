{
 "cells": [
  {
   "cell_type": "code",
   "execution_count": 41,
   "metadata": {},
   "outputs": [
    {
     "name": "stdout",
     "output_type": "stream",
     "text": [
      "Country with highest slope based on HDI:\n",
      "Republic of Korea\n",
      "Highest slope value based on HDI:\n",
      "11853.419768319145\n"
     ]
    }
   ],
   "source": [
    "import pandas as pd\n",
    "from sklearn.linear_model import LinearRegression\n",
    "\n",
    "# Defining variable\n",
    "predictor = ['HDI for year']\n",
    "response = 'suicides/100k pop'\n",
    "\n",
    "# List to store slopes and countries\n",
    "slopes = []\n",
    "countries = []\n",
    "\n",
    "# Perform linear regression for each unique country\n",
    "unique_countries = df['country'].unique()\n",
    "for country in unique_countries:\n",
    "    country_df = df[df['country'] == country]\n",
    "    \n",
    "    X = country_df[predictor]\n",
    "    y = country_df[response]\n",
    "    \n",
    "    # Initialize and train Linear Regression model\n",
    "    model = LinearRegression()\n",
    "    model.fit(X, y)\n",
    "    \n",
    "    # Get the slope (coefficient) of the regression line\n",
    "    slope = model.coef_[0]\n",
    "    \n",
    "    # Append slope and country to lists\n",
    "    slopes.append(slope)\n",
    "    countries.append(country)\n",
    "\n",
    "# Create a DataFrame with slopes and country names\n",
    "slope_df = pd.DataFrame({\n",
    "    'country': countries,\n",
    "    'slope': slopes\n",
    "})\n",
    "\n",
    "# Find the country with the highest slope based on HDI\n",
    "country_with_max_slope = slope_df.loc[slope_df['slope'].idxmax()]\n",
    "\n",
    "# Print the country with the highest slope and its slope value\n",
    "print(\"Country with highest slope based on HDI:\")\n",
    "print(country_with_max_slope['country'])\n",
    "print(\"Highest slope value based on HDI:\")\n",
    "print(country_with_max_slope['slope'])\n"
   ]
  }
 ],
 "metadata": {
  "kernelspec": {
   "display_name": "dsi_participant",
   "language": "python",
   "name": "python3"
  },
  "language_info": {
   "codemirror_mode": {
    "name": "ipython",
    "version": 3
   },
   "file_extension": ".py",
   "mimetype": "text/x-python",
   "name": "python",
   "nbconvert_exporter": "python",
   "pygments_lexer": "ipython3",
   "version": "3.9.15"
  }
 },
 "nbformat": 4,
 "nbformat_minor": 2
}
