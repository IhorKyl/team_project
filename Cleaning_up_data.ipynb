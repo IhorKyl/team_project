{
 "cells": [
  {
   "cell_type": "code",
   "execution_count": 11,
   "metadata": {},
   "outputs": [
    {
     "name": "stdout",
     "output_type": "stream",
     "text": [
      "   country  year     sex          age  suicides_no  population  \\\n",
      "0  Albania  1987    male  15-24 years         21.0      312900   \n",
      "1  Albania  1987    male  35-54 years         16.0      308000   \n",
      "2  Albania  1987  female  15-24 years         14.0      289700   \n",
      "3  Albania  1987    male    75+ years          1.0       21800   \n",
      "4  Albania  1987    male  25-34 years          9.0      274300   \n",
      "\n",
      "   suicides/100k pop country-year  HDI for year  gdp_for_year ($)   \\\n",
      "0               6.71  Albania1987           NaN     2,15,66,24,900   \n",
      "1               5.19  Albania1987           NaN     2,15,66,24,900   \n",
      "2               4.83  Albania1987           NaN     2,15,66,24,900   \n",
      "3               4.59  Albania1987           NaN     2,15,66,24,900   \n",
      "4               3.28  Albania1987           NaN     2,15,66,24,900   \n",
      "\n",
      "   gdp_per_capita ($)       generation  \n",
      "0               796.0     Generation X  \n",
      "1               796.0           Silent  \n",
      "2               796.0     Generation X  \n",
      "3               796.0  G.I. Generation  \n",
      "4               796.0          Boomers  \n",
      "Data has been cleaned and exported successfully.\n"
     ]
    }
   ],
   "source": [
    "import pandas as pd\n",
    "\n",
    "file_path = r'C:\\Users\\parva\\Documents\\DSI\\team_project\\data\\raw\\master.csv'\n",
    "\n",
    "# Read the CSV file using pandas\n",
    "df = pd.read_csv(file_path, delimiter=',')\n",
    "\n",
    "# Display the first few rows of the dataframe\n",
    "print(df.head())\n",
    "df.dropna(inplace=True)\n",
    "\n",
    "# Remove duplicates\n",
    "df.drop_duplicates(inplace=True)\n",
    "\n",
    "# Filter columns (example: keep only specific columns)\n",
    "# df = df[['column1', 'column2', 'column3']]\n",
    "\n",
    "# Step 3: Export the cleaned data to a new CSV file\n",
    "processed_file_path = r'C:\\Users\\parva\\Documents\\DSI\\team_project\\data\\processed\\cleaned_master.csv'\n",
    "df.to_csv(processed_file_path, index=False)\n",
    "\n",
    "print(\"Data has been cleaned and exported successfully.\")"
   ]
  }
 ],
 "metadata": {
  "kernelspec": {
   "display_name": "dsi_participant",
   "language": "python",
   "name": "python3"
  },
  "language_info": {
   "codemirror_mode": {
    "name": "ipython",
    "version": 3
   },
   "file_extension": ".py",
   "mimetype": "text/x-python",
   "name": "python",
   "nbconvert_exporter": "python",
   "pygments_lexer": "ipython3",
   "version": "3.9.15"
  }
 },
 "nbformat": 4,
 "nbformat_minor": 2
}
