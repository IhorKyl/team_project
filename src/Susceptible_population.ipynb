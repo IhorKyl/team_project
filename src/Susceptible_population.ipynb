{
 "cells": [
  {
   "cell_type": "code",
   "execution_count": 14,
   "metadata": {},
   "outputs": [
    {
     "name": "stderr",
     "output_type": "stream",
     "text": [
      "c:\\Users\\parva\\miniconda3\\envs\\dsi_participant\\lib\\site-packages\\statsmodels\\regression\\linear_model.py:1782: RuntimeWarning: invalid value encountered in scalar divide\n",
      "  return 1 - self.ssr/self.centered_tss\n"
     ]
    },
    {
     "name": "stdout",
     "output_type": "stream",
     "text": [
      "Highest slope value based on HDI: 11853.419768318128\n",
      "R-squared value for this country: 0.07333016905905998\n",
      "P-value for HDI coefficient: 0.11016750827580955\n",
      "\n",
      "Country with highest significant slope: country      Bosnia and Herzegovina\n",
      "slope                   1001.759259\n",
      "r_squared                   0.25146\n",
      "p_value                    0.012545\n",
      "Name: 13, dtype: object/n\n",
      "A positive slope in the context of HDI (Human Development Index) vs suicide rate suggests that as the HDI increases, the suicide rate tends to increase as well. Countries with higher HDI generally have better socioeconomic indicators such as income, education, and life expectancy. These factors contribute to overall well-being but can also lead to higher expectations and pressures. Something we can target as a company\n"
     ]
    },
    {
     "name": "stderr",
     "output_type": "stream",
     "text": [
      "c:\\Users\\parva\\miniconda3\\envs\\dsi_participant\\lib\\site-packages\\statsmodels\\regression\\linear_model.py:1782: RuntimeWarning: invalid value encountered in scalar divide\n",
      "  return 1 - self.ssr/self.centered_tss\n"
     ]
    }
   ],
   "source": [
    "import pandas as pd\n",
    "from sklearn.linear_model import LinearRegression\n",
    "import statsmodels.api as sm\n",
    "\n",
    "file_path = 'data/processed/cleaned_master.csv'\n",
    "df = pd.read_csv(file_path)\n",
    "\n",
    "# Define features and target variable\n",
    "predictor = ['HDI for year']\n",
    "response = 'suicides/100k pop'\n",
    "\n",
    "# Initialize lists to store results\n",
    "countries = []\n",
    "slopes = []\n",
    "r_squared_values = []\n",
    "p_values = []\n",
    "\n",
    "# Perform linear regression for each unique country\n",
    "unique_countries = df['country'].unique()\n",
    "for country in unique_countries:\n",
    "    country_df = df[df['country'] == country]\n",
    "    \n",
    "    X = country_df[predictor]\n",
    "    y = country_df[response]\n",
    "    \n",
    "    # Add constant to X for intercept\n",
    "    X = sm.add_constant(X)\n",
    "    \n",
    "    # Fit linear regression model using statsmodels\n",
    "    model = sm.OLS(y, X)\n",
    "    results = model.fit()\n",
    "    \n",
    "    # Get slope, R-squared, and p-value\n",
    "    slope = results.params['HDI for year']\n",
    "    r_squared = results.rsquared\n",
    "    p_value = results.pvalues['HDI for year']\n",
    "    \n",
    "    # Append results to lists\n",
    "    countries.append(country)\n",
    "    slopes.append(slope)\n",
    "    r_squared_values.append(r_squared)\n",
    "    p_values.append(p_value)\n",
    "\n",
    "# Create DataFrame with results\n",
    "results_df = pd.DataFrame({\n",
    "    'country': countries,\n",
    "    'slope': slopes,\n",
    "    'r_squared': r_squared_values,\n",
    "    'p_value': p_values\n",
    "})\n",
    "\n",
    "# Find the country with the highest slope based on HDI\n",
    "country_with_max_slope = results_df.loc[results_df['slope'].idxmax()] \n",
    "\n",
    "# Print results\n",
    "print(f\"Highest slope value based on HDI: {country_with_max_slope['slope']}\")\n",
    "print(f\"R-squared value for this country: {country_with_max_slope['r_squared']}\")\n",
    "print(f\"P-value for HDI coefficient: {country_with_max_slope['p_value']}\\n\")\n",
    "\n",
    "\n",
    "# Print significant results \n",
    "significant_results_df = results_df[results_df['p_value'] < 0.05]\n",
    "if not significant_results_df.empty:\n",
    "    MAX_slope_significant = significant_results_df.loc[significant_results_df['slope'].idxmax()]\n",
    "    print(f\"Country with highest significant slope: {MAX_slope_significant}/n\")\n",
    "else:\n",
    "    print(\"No significant results found with p-value < 0.05\")\n",
    "print(\"A positive slope in the context of HDI (Human Development Index) vs suicide rate suggests that as the HDI increases, the suicide rate tends to increase as well. Countries with higher HDI generally have better socioeconomic indicators such as income, education, and life expectancy. These factors contribute to overall well-being but can also lead to higher expectations and pressures. Something we can target as a company\")\n"
   ]
  }
 ],
 "metadata": {
  "kernelspec": {
   "display_name": "dsi_participant",
   "language": "python",
   "name": "python3"
  },
  "language_info": {
   "codemirror_mode": {
    "name": "ipython",
    "version": 3
   },
   "file_extension": ".py",
   "mimetype": "text/x-python",
   "name": "python",
   "nbconvert_exporter": "python",
   "pygments_lexer": "ipython3",
   "version": "3.9.15"
  }
 },
 "nbformat": 4,
 "nbformat_minor": 2
}
